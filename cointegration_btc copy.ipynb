{
 "cells": [
  {
   "cell_type": "code",
   "execution_count": 1,
   "id": "2e8556d5",
   "metadata": {
    "collapsed": true
   },
   "outputs": [],
   "source": [
    "import numpy as np\n",
    "import datetime as datetime\n",
    "import pandas as pd\n",
    "import matplotlib.pyplot as plt\n",
    "import requests\n",
    "import os"
   ]
  },
  {
   "cell_type": "code",
   "execution_count": 2,
   "id": "51d5136b",
   "metadata": {
    "collapsed": true
   },
   "outputs": [],
   "source": [
    "def collect_data(assets: list, start: datetime.datetime, end: datetime.datetime, path=\"binance_1m\",step='1m',quote_asset=\"USDT\") -> None:\n",
    "\n",
    "    if not os.path.exists(path):\n",
    "        os.makedirs(path)\n",
    "\n",
    "    for asset in assets:\n",
    "        df = get_data(asset, start, end,step,quote_asset)\n",
    "        full_path = path + '/' + asset + '.csv'\n",
    "        df.index = pd.to_datetime(df.index)\n",
    "        df = df[~df.index.duplicated(keep='first')]\n",
    "        df.to_csv(full_path)\n",
    "\n",
    "def get_data(asset: str, start: datetime.datetime, end: datetime.datetime, step: str, quote_asset:str) -> pd.DataFrame:\n",
    "\n",
    "    res = []\n",
    "    limit = 1000\n",
    "    start_time = start\n",
    "\n",
    "    while start_time < end + datetime.timedelta(minutes=limit):\n",
    "        end_time = start_time + datetime.timedelta(minutes=limit)\n",
    "        res += data_call(asset, quote_asset, step, start_time, end_time, limit)\n",
    "        start_time = end_time\n",
    "\n",
    "    end_time = end\n",
    "    res += data_call(asset, quote_asset, step, start_time, end_time, limit)\n",
    "\n",
    "    return pd.DataFrame(data=res, columns=[\"Close\", \"Time\"]).set_index(\"Time\")\n",
    "\n",
    "def data_call(asset: str, quote_asset: str, step: int, start_time: datetime.datetime, end_time: datetime.datetime, limit: int) -> list:\n",
    "    url = 'https://api.binance.com/api/v3/klines?symbol=' + asset + quote_asset + '&interval=' + str(step) + '&startTime=' + str(int(start_time.timestamp())) + '000' + '&endTime=' + str(int(end_time.timestamp())) + '000&limit=' + str(limit)\n",
    "    data = requests.get(url).json()\n",
    "    return extract_data(data)\n",
    "\n",
    "def extract_data(data):\n",
    "    res = []\n",
    "    for obj in data:\n",
    "        date = datetime.datetime.fromtimestamp(int(str(obj[6])[:-3]) + 1)\n",
    "        close_price = obj[4]\n",
    "        res.append([close_price, date])\n",
    "    return res\n",
    "\n",
    "def load_data(assets: list, start: datetime.datetime, end: datetime.datetime, fields=\"Close\", path=\"binance_1m\"):\n",
    "    data = {}\n",
    "\n",
    "    for asset in assets:\n",
    "        obj = pd.read_csv(path + '/' + asset + '.csv').set_index(\"Time\")\n",
    "\n",
    "        obj = obj[fields]\n",
    "        \n",
    "        obj.index = pd.to_datetime(obj.index)\n",
    "\n",
    "        obj = obj.loc[start:end]\n",
    "\n",
    "        obj = obj.dropna()\n",
    "\n",
    "        data[asset] = obj\n",
    "\n",
    "    return pd.DataFrame(data=data)\n",
    "    "
   ]
  },
  {
   "cell_type": "code",
   "execution_count": 3,
   "metadata": {
    "collapsed": true
   },
   "outputs": [],
   "source": [
    "assets = [\"BTC\",\"ETH\",\"BNB\",\"XRP\",\"ADA\",\"LTC\",\"SOL\",\"UNI\",\"AAVE\",\"LINK\",\"MKR\",\"FTM\",\"EOS\",\"SAND\",\"XTZ\",\"TRX\"]"
   ]
  },
  {
   "cell_type": "code",
   "execution_count": null,
   "id": "2f809889",
   "metadata": {},
   "outputs": [],
   "source": [
    "len(assets)"
   ]
  },
  {
   "cell_type": "code",
   "execution_count": 6,
   "metadata": {
    "collapsed": true
   },
   "outputs": [],
   "source": [
    "start=datetime.datetime(2024, 1, 2 ,0, 0, 0, 0) \n",
    "end=datetime.datetime(2024, 3, 2 ,0, 0, 0, 0)\n",
    "collect_data(assets,start,end)"
   ]
  },
  {
   "cell_type": "code",
   "execution_count": null,
   "metadata": {},
   "outputs": [],
   "source": [
    "data = load_data(assets,start,end)\n",
    "data"
   ]
  },
  {
   "cell_type": "code",
   "execution_count": 8,
   "metadata": {
    "collapsed": true
   },
   "outputs": [],
   "source": [
    "lag = 240\n",
    "i = 10000\n",
    "x_array = np.array(data.iloc[i:i+lag])\n",
    "x_array = x_array/x_array[0]"
   ]
  },
  {
   "cell_type": "code",
   "execution_count": 9,
   "metadata": {},
   "outputs": [],
   "source": [
    "def lin_regression_weights(X: np.ndarray, Y: np.ndarray):\n",
    "    X_transpose_X = np.dot(X.T, X)\n",
    "\n",
    "    X_transpose_X_inv = np.linalg.inv(X_transpose_X)\n",
    "\n",
    "    X_inv_X_transpose = np.dot(X_transpose_X_inv, X.T)\n",
    "\n",
    "    weights = np.dot(X_inv_X_transpose, Y)\n",
    "\n",
    "    return weights"
   ]
  },
  {
   "cell_type": "code",
   "execution_count": 10,
   "metadata": {
    "collapsed": true
   },
   "outputs": [],
   "source": [
    "w = lin_regression_weights(x_array,x_array)"
   ]
  },
  {
   "cell_type": "code",
   "execution_count": null,
   "metadata": {},
   "outputs": [],
   "source": [
    "dims = (16,12)\n",
    "k = 0\n",
    "fig = plt.subplots(figsize=dims)\n",
    "plt.plot(x_array[:,k])\n",
    "plt.plot(x_array@w[k])\n",
    "plt.show()"
   ]
  },
  {
   "cell_type": "code",
   "execution_count": null,
   "metadata": {},
   "outputs": [],
   "source": [
    "print(np.round(w,6))"
   ]
  },
  {
   "cell_type": "code",
   "execution_count": 43,
   "metadata": {
    "collapsed": true
   },
   "outputs": [],
   "source": [
    "def ridge_regression_weights(X: np.ndarray, Y: np.ndarray, lambda_=0.001):\n",
    "    X_transpose_X = np.dot(X.T, X)\n",
    "    regularization_term = lambda_ * np.eye(X.shape[1])\n",
    "    X_transpose_X_regularized = X_transpose_X + regularization_term\n",
    "    X_transpose_X_inv = np.linalg.inv(X_transpose_X_regularized)\n",
    "    X_inv_X_transpose = np.dot(X_transpose_X_inv, X.T)\n",
    "    weights = np.dot(X_inv_X_transpose, Y)\n",
    "    return weights"
   ]
  },
  {
   "cell_type": "code",
   "execution_count": 44,
   "metadata": {},
   "outputs": [],
   "source": [
    "w = ridge_regression_weights(x_array,x_array,lambda_ = 0.001)"
   ]
  },
  {
   "cell_type": "code",
   "execution_count": null,
   "metadata": {},
   "outputs": [],
   "source": [
    "dims = (16,12)\n",
    "k = 0\n",
    "fig = plt.subplots(figsize=dims)\n",
    "plt.plot(x_array[:,k])\n",
    "plt.plot(x_array@w[k])\n",
    "plt.show()"
   ]
  },
  {
   "cell_type": "code",
   "execution_count": null,
   "metadata": {},
   "outputs": [],
   "source": [
    "fig = plt.subplots(figsize=dims)\n",
    "plt.plot(x_array@w[k]-x_array[:,k])\n",
    "plt.show()"
   ]
  }
 ],
 "metadata": {
  "kernelspec": {
   "display_name": "Python 3",
   "language": "python",
   "name": "python3"
  },
  "language_info": {
   "codemirror_mode": {
    "name": "ipython",
    "version": 3
   },
   "file_extension": ".py",
   "mimetype": "text/x-python",
   "name": "python",
   "nbconvert_exporter": "python",
   "pygments_lexer": "ipython3",
   "version": "3.13.1"
  }
 },
 "nbformat": 4,
 "nbformat_minor": 5
}
