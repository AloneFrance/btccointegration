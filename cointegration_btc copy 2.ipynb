{
 "cells": [
  {
   "cell_type": "code",
   "execution_count": 49,
   "id": "2e8556d5",
   "metadata": {
    "collapsed": true
   },
   "outputs": [],
   "source": [
    "import numpy as np\n",
    "import datetime as datetime\n",
    "import pandas as pd\n",
    "import matplotlib.pyplot as plt\n",
    "import requests\n",
    "import os"
   ]
  },
  {
   "cell_type": "code",
   "execution_count": 2,
   "id": "51d5136b",
   "metadata": {
    "collapsed": true
   },
   "outputs": [],
   "source": [
    "def collect_data(assets: list, start: datetime.datetime, end: datetime.datetime, path=\"binance_1m\",step='1m',quote_asset=\"USDT\") -> None:\n",
    "\n",
    "    if not os.path.exists(path):\n",
    "        os.makedirs(path)\n",
    "\n",
    "    for asset in assets:\n",
    "        df = get_data(asset, start, end,step,quote_asset)\n",
    "        full_path = path + '/' + asset + '.csv'\n",
    "        df.index = pd.to_datetime(df.index)\n",
    "        df = df[~df.index.duplicated(keep='first')]\n",
    "        df.to_csv(full_path)\n",
    "\n",
    "def get_data(asset: str, start: datetime.datetime, end: datetime.datetime, step: str, quote_asset:str) -> pd.DataFrame:\n",
    "\n",
    "    res = []\n",
    "    limit = 1000\n",
    "    start_time = start\n",
    "\n",
    "    while start_time < end + datetime.timedelta(minutes=limit):\n",
    "        end_time = start_time + datetime.timedelta(minutes=limit)\n",
    "        res += data_call(asset, quote_asset, step, start_time, end_time, limit)\n",
    "        start_time = end_time\n",
    "\n",
    "    end_time = end\n",
    "    res += data_call(asset, quote_asset, step, start_time, end_time, limit)\n",
    "\n",
    "    return pd.DataFrame(data=res, columns=[\"Close\", \"Time\"]).set_index(\"Time\")\n",
    "\n",
    "def data_call(asset: str, quote_asset: str, step: int, start_time: datetime.datetime, end_time: datetime.datetime, limit: int) -> list:\n",
    "    url = 'https://api.binance.com/api/v3/klines?symbol=' + asset + quote_asset + '&interval=' + str(step) + '&startTime=' + str(int(start_time.timestamp())) + '000' + '&endTime=' + str(int(end_time.timestamp())) + '000&limit=' + str(limit)\n",
    "    data = requests.get(url).json()\n",
    "    return extract_data(data)\n",
    "\n",
    "def extract_data(data):\n",
    "    res = []\n",
    "    for obj in data:\n",
    "        date = datetime.datetime.fromtimestamp(int(str(obj[6])[:-3]) + 1)\n",
    "        close_price = obj[4]\n",
    "        res.append([close_price, date])\n",
    "    return res\n",
    "\n",
    "def load_data(assets: list, start: datetime.datetime, end: datetime.datetime, fields=\"Close\", path=\"binance_1m\"):\n",
    "    data = {}\n",
    "\n",
    "    for asset in assets:\n",
    "        obj = pd.read_csv(path + '/' + asset + '.csv').set_index(\"Time\")\n",
    "\n",
    "        obj = obj[fields]\n",
    "        \n",
    "        obj.index = pd.to_datetime(obj.index)\n",
    "\n",
    "        obj = obj.loc[start:end]\n",
    "\n",
    "        obj = obj.dropna()\n",
    "\n",
    "        data[asset] = obj\n",
    "\n",
    "    return pd.DataFrame(data=data)\n",
    "    "
   ]
  },
  {
   "cell_type": "code",
   "execution_count": 3,
   "metadata": {
    "collapsed": true
   },
   "outputs": [],
   "source": [
    "assets = [\"BTC\",\"ETH\",\"BNB\",\"XRP\",\"ADA\",\"LTC\",\"SOL\",\"UNI\",\"AAVE\",\"LINK\",\"MKR\",\"FTM\",\"EOS\",\"SAND\",\"XTZ\",\"TRX\"]"
   ]
  },
  {
   "cell_type": "code",
   "execution_count": null,
   "metadata": {},
   "outputs": [],
   "source": [
    "len(assets)"
   ]
  },
  {
   "cell_type": "code",
   "execution_count": 6,
   "metadata": {
    "collapsed": true
   },
   "outputs": [],
   "source": [
    "start=datetime.datetime(2024, 1, 2 ,0, 0, 0, 0) \n",
    "end=datetime.datetime(2024, 3, 2 ,0, 0, 0, 0)\n",
    "collect_data(assets,start,end)"
   ]
  },
  {
   "cell_type": "code",
   "execution_count": null,
   "metadata": {},
   "outputs": [],
   "source": [
    "data = load_data(assets,start,end)\n",
    "data"
   ]
  },
  {
   "cell_type": "code",
   "execution_count": 8,
   "metadata": {
    "collapsed": true
   },
   "outputs": [],
   "source": [
    "lag = 240\n",
    "i = 10000\n",
    "x_array = np.array(data.iloc[i:i+lag])\n",
    "x_array = x_array/x_array[0]"
   ]
  },
  {
   "cell_type": "code",
   "execution_count": 9,
   "metadata": {},
   "outputs": [],
   "source": [
    "def lin_regression_weights(X: np.ndarray, Y: np.ndarray):\n",
    "    X_transpose_X = np.dot(X.T, X)\n",
    "\n",
    "    X_transpose_X_inv = np.linalg.inv(X_transpose_X)\n",
    "\n",
    "    X_inv_X_transpose = np.dot(X_transpose_X_inv, X.T)\n",
    "\n",
    "    weights = np.dot(X_inv_X_transpose, Y)\n",
    "\n",
    "    return weights"
   ]
  },
  {
   "cell_type": "code",
   "execution_count": 10,
   "metadata": {
    "collapsed": true
   },
   "outputs": [],
   "source": [
    "w = lin_regression_weights(x_array,x_array)"
   ]
  },
  {
   "cell_type": "code",
   "execution_count": 43,
   "metadata": {
    "collapsed": true
   },
   "outputs": [],
   "source": [
    "def ridge_regression_weights(X: np.ndarray, Y: np.ndarray, lambda_=0.001):\n",
    "    X_transpose_X = np.dot(X.T, X)\n",
    "    regularization_term = lambda_ * np.eye(X.shape[1])\n",
    "    X_transpose_X_regularized = X_transpose_X + regularization_term\n",
    "    X_transpose_X_inv = np.linalg.inv(X_transpose_X_regularized)\n",
    "    X_inv_X_transpose = np.dot(X_transpose_X_inv, X.T)\n",
    "    weights = np.dot(X_inv_X_transpose, Y)\n",
    "    return weights"
   ]
  },
  {
   "cell_type": "code",
   "execution_count": 44,
   "metadata": {},
   "outputs": [],
   "source": [
    "w = ridge_regression_weights(x_array,x_array,lambda_ = 0.001)"
   ]
  },
  {
   "cell_type": "code",
   "execution_count": null,
   "metadata": {},
   "outputs": [],
   "source": [
    "# On part du principe que 'data' est un DataFrame avec 16 colonnes (une par actif)\n",
    "# Convertir le DataFrame complet en un tableau NumPy de forme (n_samples, 16)\n",
    "x_array = np.array(data)  # Devrait donner par exemple (86400, 16) pour 86400 minutes\n",
    "x_array = x_array / x_array[0]  # Normalisation par rapport à la première ligne\n",
    "\n",
    "# Transformer x_array en DataFrame avec les noms des colonnes provenant de 'assets'\n",
    "x_array_df = pd.DataFrame(x_array, columns=assets)\n",
    "print(x_array_df.head())  # Pour vérifier que tout est correct\n",
    "\n",
    "# Tracé pour l'actif k (par exemple, k = 0 correspond à BTC)\n",
    "dims = (16, 12)\n",
    "k = 0\n",
    "\n",
    "fig, ax = plt.subplots(figsize=dims)\n",
    "# Tracer la série réelle de l'actif k\n",
    "ax.plot(x_array_df[assets[k]], label=f\"{assets[k]} Data\")\n",
    "# Tracer la prédiction calculée en faisant le produit matriciel\n",
    "ax.plot(x_array_df.values @ w[k], label=\"Prediction\")\n",
    "ax.legend()\n",
    "ax.set_title(f\"Comparaison pour {assets[k]}\")\n",
    "plt.show()"
   ]
  },
  {
   "cell_type": "code",
   "execution_count": null,
   "id": "6068f149",
   "metadata": {},
   "outputs": [],
   "source": [
    "x_array_df[\"date\"]=data.index"
   ]
  },
  {
   "cell_type": "code",
   "execution_count": null,
   "id": "7947beb6",
   "metadata": {},
   "outputs": [],
   "source": [
    "x_array_df.set_index(\"date\")"
   ]
  },
  {
   "cell_type": "code",
   "execution_count": null,
   "id": "6e9ba969",
   "metadata": {},
   "outputs": [],
   "source": [
    "x_array"
   ]
  },
  {
   "cell_type": "code",
   "execution_count": null,
   "metadata": {},
   "outputs": [],
   "source": [
    "fig = plt.subplots(figsize=dims)\n",
    "plt.plot(x_array@w[k]-x_array[:,k])\n",
    "plt.show()"
   ]
  },
  {
   "cell_type": "code",
   "execution_count": null,
   "id": "f7d0b33b",
   "metadata": {},
   "outputs": [],
   "source": [
    "import pandas as pd\n",
    "import numpy as np\n",
    "import matplotlib.pyplot as plt\n",
    "import datetime as dt\n",
    "\n",
    "# Exemple de récupération des données, ici avec des données fictives (à remplacer par les vôtres)\n",
    "# On suppose que le fichier CSV contient deux colonnes : \"Time\" et \"Spread\"\n",
    "df = pd.read_csv(\"spread_m1.csv\", parse_dates=[\"Time\"])\n",
    "\n",
    "# Assurer que \"Time\" est en datetime et bien indexé\n",
    "df['Time'] = pd.to_datetime(df['Time'])\n",
    "df.set_index('Time', inplace=True)\n",
    "\n",
    "# Vérifier que les données sont bien à une fréquence de 1 minute\n",
    "print(df.index.freq)  # Cela devrait retourner 'T' si c'est bien en minute.\n",
    "\n",
    "# Si la fréquence n'est pas 'T' (minute), on peut forcer le resampling\n",
    "df = df.resample('T').ffill()  # Resample pour forcer à avoir une donnée toutes les minutes (en remplissant les trous)\n",
    "\n",
    "# Maintenant, tu peux afficher la courbe en M1\n",
    "plt.figure(figsize=(12, 6))\n",
    "plt.plot(df.index, df['Spread'])\n",
    "plt.title(\"Évolution du Spread en M1\")\n",
    "plt.xlabel(\"Temps\")\n",
    "plt.ylabel(\"Spread\")\n",
    "plt.xticks(rotation=45)  # Pour mieux afficher les dates sur l'axe X\n",
    "plt.grid(True)\n",
    "plt.show()"
   ]
  },
  {
   "cell_type": "code",
   "execution_count": null,
   "id": "f31e5d6d",
   "metadata": {},
   "outputs": [],
   "source": [
    "# Assurons-nous que x_array est bien une matrice avec une forme (n_samples, 16) pour qu'on puisse appliquer les poids correctement\n",
    "x_array = np.array(data[assets[k]])  # Récupérer les données de la crypto k\n",
    "x_array = x_array / x_array[0]  # Normaliser (si nécessaire)\n",
    "\n",
    "# Vérifier la forme de x_array (cela devrait être (n_samples, 16), n_samples étant le nombre de minutes)\n",
    "print(x_array.shape)\n",
    "\n",
    "# Calcul du spread sur toute la période (produit matriciel entre chaque ligne de x_array et les poids w[k])\n",
    "spread = np.dot(x_array, w[k]) - x_array[:, k]\n",
    "\n",
    "# Ajouter chaque ligne (Time, Spread, Asset) pour l'enregistrement\n",
    "spread_data = []\n",
    "for i in range(len(spread)):\n",
    "    time = data[assets[k]].index[i]  # Temps exact pour chaque ligne\n",
    "    spread_data.append([time, spread[i], assets[k]])\n",
    "\n",
    "# Convertir en DataFrame et enregistrer dans un fichier CSV\n",
    "spread_df = pd.DataFrame(spread_data, columns=[\"Time\", \"Spread\", \"Asset\"])\n",
    "spread_df.to_csv(\"spread_m1.csv\", index=False)"
   ]
  },
  {
   "cell_type": "code",
   "execution_count": null,
   "id": "7539b76d",
   "metadata": {},
   "outputs": [],
   "source": []
  }
 ],
 "metadata": {
  "kernelspec": {
   "display_name": "Python 3",
   "language": "python",
   "name": "python3"
  },
  "language_info": {
   "codemirror_mode": {
    "name": "ipython",
    "version": 3
   },
   "file_extension": ".py",
   "mimetype": "text/x-python",
   "name": "python",
   "nbconvert_exporter": "python",
   "pygments_lexer": "ipython3",
   "version": "3.13.1"
  }
 },
 "nbformat": 4,
 "nbformat_minor": 5
}
